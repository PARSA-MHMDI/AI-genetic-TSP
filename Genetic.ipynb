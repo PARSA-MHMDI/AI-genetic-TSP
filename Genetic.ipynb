{
  "nbformat": 4,
  "nbformat_minor": 0,
  "metadata": {
    "colab": {
      "name": "Genetic.ipynb",
      "provenance": [],
      "collapsed_sections": []
    },
    "kernelspec": {
      "name": "python3",
      "display_name": "Python 3"
    },
    "language_info": {
      "name": "python"
    },
    "accelerator": "GPU"
  },
  "cells": [
    {
      "cell_type": "markdown",
      "metadata": {
        "id": "lsKRc_RvQ4WX"
      },
      "source": [
        "# Genetic Algorithm"
      ]
    },
    {
      "cell_type": "markdown",
      "metadata": {
        "id": "knbw6XaJQ-iW"
      },
      "source": [
        "## Libraries\n"
      ]
    },
    {
      "cell_type": "code",
      "metadata": {
        "id": "tKzN_AoaRBbI"
      },
      "source": [
        "import numpy as np\n",
        "import random\n",
        "import math\n",
        "import numpy as np\n",
        "from copy import deepcopy\n",
        "from copy import copy\n",
        "import sys\n",
        "import numpy\n",
        "numpy.set_printoptions(threshold=sys.maxsize)\n",
        "import random\n",
        "import matplotlib.pyplot as plt\n",
        "\n",
        "%matplotlib inline"
      ],
      "execution_count": null,
      "outputs": []
    },
    {
      "cell_type": "markdown",
      "metadata": {
        "id": "OwJwMipiRN3n"
      },
      "source": [
        "## Load Data"
      ]
    },
    {
      "cell_type": "code",
      "metadata": {
        "id": "h6Md7W-RRRze",
        "colab": {
          "base_uri": "https://localhost:8080/"
        },
        "outputId": "c0303bf3-34ad-4cc3-8af8-a3d102e6e828"
      },
      "source": [
        "with open('/content/drive/MyDrive/Colab Notebooks/AI Class Project 1/qa194.tsp') as f:\n",
        "    file = f.read().split(\"\\n\")\n",
        "    coords = []\n",
        "    for i in file:\n",
        "        a , b, c = i.split()\n",
        "        b = float(b)\n",
        "        c = float(c)\n",
        "        coords.append((b,c))\n",
        "print(coords)"
      ],
      "execution_count": null,
      "outputs": [
        {
          "output_type": "stream",
          "name": "stdout",
          "text": [
            "[(24748.3333, 50840.0), (24758.8889, 51211.9444), (24827.2222, 51394.7222), (24904.4444, 51175.0), (24996.1111, 51548.8889), (25010.0, 51039.4444), (25030.8333, 51275.2778), (25067.7778, 51077.5), (25100.0, 51516.6667), (25103.3333, 51521.6667), (25121.9444, 51218.3333), (25150.8333, 51537.7778), (25158.3333, 51163.6111), (25162.2222, 51220.8333), (25167.7778, 51606.9444), (25168.8889, 51086.3889), (25173.8889, 51269.4444), (25210.8333, 51394.1667), (25211.3889, 51619.1667), (25214.1667, 50807.2222), (25214.4444, 51378.8889), (25223.3333, 51451.6667), (25224.1667, 51174.4444), (25233.3333, 51333.3333), (25234.1667, 51203.0556), (25235.5556, 51330.0), (25235.5556, 51495.5556), (25242.7778, 51428.8889), (25243.0556, 51452.5), (25252.5, 51559.1667), (25253.8889, 51535.2778), (25253.8889, 51549.7222), (25256.9444, 51398.8889), (25263.6111, 51516.3889), (25265.8333, 51545.2778), (25266.6667, 50969.1667), (25266.6667, 51483.3333), (25270.5556, 51532.7778), (25270.8333, 51505.8333), (25270.8333, 51523.0556), (25275.8333, 51533.6111), (25277.2222, 51547.7778), (25278.3333, 51525.5556), (25278.3333, 51541.3889), (25279.1667, 51445.5556), (25281.1111, 51535.0), (25281.3889, 51512.5), (25283.3333, 51533.3333), (25283.6111, 51546.6667), (25284.7222, 51555.2778), (25286.1111, 51504.1667), (25286.1111, 51534.1667), (25286.6667, 51533.3333), (25287.5, 51537.7778), (25288.0556, 51546.6667), (25290.8333, 51528.3333), (25291.9444, 51424.4444), (25292.5, 51520.8333), (25298.6111, 51001.6667), (25300.8333, 51394.4444), (25306.9444, 51507.7778), (25311.9444, 51003.0556), (25313.8889, 50883.3333), (25315.2778, 51438.6111), (25316.6667, 50766.6667), (25320.5556, 51495.5556), (25322.5, 51507.7778), (25325.2778, 51470.0), (25326.6667, 51350.2778), (25337.5, 51425.0), (25339.1667, 51173.3333), (25340.5556, 51293.6111), (25341.9444, 51507.5), (25358.8889, 51333.6111), (25363.6111, 51281.1111), (25368.6111, 51226.3889), (25374.4444, 51436.6667), (25377.7778, 51294.7222), (25396.9444, 51422.5), (25400.0, 51183.3333), (25400.0, 51425.0), (25404.7222, 51073.0556), (25416.9444, 51403.8889), (25416.9444, 51457.7778), (25419.4444, 50793.6111), (25429.7222, 50785.8333), (25433.3333, 51220.0), (25440.8333, 51378.0556), (25444.4444, 50958.3333), (25451.3889, 50925.0), (25459.1667, 51316.6667), (25469.7222, 51397.5), (25478.0556, 51362.5), (25480.5556, 50938.8889), (25483.3333, 51383.3333), (25490.5556, 51373.6111), (25492.2222, 51400.2778), (25495.0, 50846.6667), (25495.0, 50965.2778), (25497.5, 51485.2778), (25500.8333, 50980.5556), (25510.5556, 51242.2222), (25531.9444, 51304.4444), (25533.3333, 50977.2222), (25538.8889, 51408.3333), (25545.8333, 51387.5), (25549.7222, 51431.9444), (25550.0, 51433.3333), (25560.2778, 51158.6111), (25566.9444, 51484.7222), (25567.5, 50958.8889), (25574.7222, 51486.3889), (25585.5556, 51151.3889), (25609.4444, 51092.2222), (25610.2778, 51475.2778), (25622.5, 51454.4444), (25645.8333, 51450.0), (25650.0, 51372.2222), (25666.9444, 51174.4444), (25683.8889, 51505.8333), (25686.3889, 51468.8889), (25696.1111, 51260.8333), (25700.8333, 51584.7222), (25708.3333, 51591.6667), (25716.6667, 51050.0), (25717.5, 51057.7778), (25723.0556, 51004.1667), (25734.7222, 51547.5), (25751.1111, 51449.1667), (25751.9444, 50920.8333), (25758.3333, 51395.8333), (25765.2778, 51019.7222), (25772.2222, 51483.3333), (25775.8333, 51023.0556), (25779.1667, 51449.7222), (25793.3333, 51409.4444), (25808.3333, 51060.5556), (25816.6667, 51133.3333), (25823.6111, 51152.5), (25826.6667, 51043.8889), (25829.7222, 51245.2778), (25833.3333, 51072.2222), (25839.1667, 51465.2778), (25847.7778, 51205.8333), (25850.0, 51033.3333), (25856.6667, 51083.3333), (25857.5, 51298.8889), (25857.5, 51441.3889), (25866.6667, 51066.6667), (25867.7778, 51205.5556), (25871.9444, 51354.7222), (25872.5, 51258.3333), (25880.8333, 51221.3889), (25883.0556, 51185.2778), (25888.0556, 51386.3889), (25900.0, 51000.0), (25904.1667, 51201.6667), (25928.3333, 51337.5), (25937.5, 51313.3333), (25944.7222, 51456.3889), (25950.0, 51066.6667), (25951.6667, 51349.7222), (25957.7778, 51075.2778), (25958.3333, 51099.4444), (25966.6667, 51283.3333), (25983.3333, 51400.0), (25983.6111, 51328.0556), (26000.2778, 51294.4444), (26008.6111, 51083.6111), (26016.6667, 51333.3333), (26021.6667, 51366.9444), (26033.3333, 51116.6667), (26033.3333, 51166.6667), (26033.6111, 51163.8889), (26033.6111, 51200.2778), (26048.8889, 51056.9444), (26050.0, 51250.0), (26050.2778, 51297.5), (26050.5556, 51135.8333), (26055.0, 51316.1111), (26067.2222, 51258.6111), (26074.7222, 51083.6111), (26076.6667, 51166.9444), (26077.2222, 51222.2222), (26078.0556, 51361.6667), (26083.6111, 51147.2222), (26099.7222, 51161.1111), (26108.0556, 51244.7222), (26116.6667, 51216.6667), (26123.6111, 51169.1667), (26123.6111, 51222.7778), (26133.3333, 51216.6667), (26133.3333, 51300.0), (26150.2778, 51108.0556)]\n"
          ]
        }
      ]
    },
    {
      "cell_type": "code",
      "metadata": {
        "id": "b8WQVwh5T7Da",
        "colab": {
          "base_uri": "https://localhost:8080/",
          "height": 283
        },
        "outputId": "7aa312ef-4e10-40b9-fd96-3efa6495b7d0"
      },
      "source": [
        "print(type(coords[0][0]))\n",
        "\n",
        "for i in range(len(coords)):\n",
        "  plt.plot(coords[i][1], coords[i][0], 'o', color='black');"
      ],
      "execution_count": null,
      "outputs": [
        {
          "output_type": "stream",
          "name": "stdout",
          "text": [
            "<class 'float'>\n"
          ]
        },
        {
          "output_type": "display_data",
          "data": {
            "image/png": "[encoded data removed]",
            "text/plain": [
              "<Figure size 432x288 with 1 Axes>"
            ]
          },
          "metadata": {
            "needs_background": "light"
          }
        }
      ]
    },
    {
      "cell_type": "markdown",
      "metadata": {
        "id": "3HWr_8HHchzr"
      },
      "source": [
        "### distance"
      ]
    },
    {
      "cell_type": "code",
      "metadata": {
        "id": "S3wzh4VtcFVO",
        "colab": {
          "base_uri": "https://localhost:8080/"
        },
        "outputId": "6b41ae66-6f51-4be9-8dca-36ef091ab3a3"
      },
      "source": [
        "def distance(coord1 , coord2):\n",
        "  dis = np.sqrt(np.square(coord1[0]-coord2[0]) + np.square(coord1[1]-coord2[1]))\n",
        "  return dis\n",
        "distance(coords[0], coords[1])"
      ],
      "execution_count": null,
      "outputs": [
        {
          "output_type": "execute_result",
          "data": {
            "text/plain": [
              "290.99301545433866"
            ]
          },
          "metadata": {},
          "execution_count": 4
        }
      ]
    },
    {
      "cell_type": "markdown",
      "metadata": {
        "id": "7xnxpypZfDxY"
      },
      "source": [
        "### Make matrix of distance:"
      ]
    },
    {
      "cell_type": "code",
      "metadata": {
        "id": "-QUkzOZKfEUu"
      },
      "source": [
        "def tsp_matrix(coords):\n",
        "  tsp = []\n",
        "  row = []\n",
        "  for i in range(len(coords)):\n",
        "    row.clear()\n",
        "    for j in range(len(coords)):\n",
        "      row.append(distance(coords[i] ,coords[j]))\n",
        "    r = copy(row)\n",
        "    tsp.append(r)\n",
        "  return tsp"
      ],
      "execution_count": null,
      "outputs": []
    },
    {
      "cell_type": "markdown",
      "metadata": {
        "id": "drL4D0AUfe_l"
      },
      "source": [
        "### Make population"
      ]
    },
    {
      "cell_type": "code",
      "metadata": {
        "id": "I7fY6Bvyk69m"
      },
      "source": [
        "def make_population(tsp, num):\n",
        "  \"\"\"\n",
        "  This function makes populations, input: tsp is list of roads , num is number of population we want\n",
        "  \"\"\"\n",
        "  cities = list(range(len(tsp)))\n",
        "  solution = []\n",
        "\n",
        "  for i in range(len(tsp)):\n",
        "    random_city = cities[random.randint(0,len(cities)-1)]\n",
        "    solution.append(random_city)\n",
        "    cities.remove(random_city)\n",
        "\n",
        "  neighbors = []\n",
        "  for i in range(len(solution)): #This for loop will make new list from solution by changing element positions\n",
        "    for j in range(i+1,len(solution)):\n",
        "      a = solution.copy()\n",
        "      a[i] = solution[j]\n",
        "      a[j] = solution[i]\n",
        "      neighbors.append(a)\n",
        "\n",
        "  return neighbors[:num]"
      ],
      "execution_count": null,
      "outputs": []
    },
    {
      "cell_type": "code",
      "metadata": {
        "id": "MK5T6yEjkbKY",
        "colab": {
          "base_uri": "https://localhost:8080/"
        },
        "outputId": "51b6645b-a428-476d-d27e-d6da2cdf256f"
      },
      "source": [
        "#Test\n",
        "tsp = tsp_matrix(coords)\n",
        "n = make_population(tsp, 5)\n",
        "print(len(n),np.array(n))"
      ],
      "execution_count": null,
      "outputs": [
        {
          "output_type": "stream",
          "name": "stdout",
          "text": [
            "5 [[ 0 15  2  8  7 36 14 27 23 28 35 21 33 10 20  5 30  6 18 22 29  4 17  1\n",
            "  34  3 13 31 32 12 37 16  9 19 25 24 11 26]\n",
            " [ 2  0 15  8  7 36 14 27 23 28 35 21 33 10 20  5 30  6 18 22 29  4 17  1\n",
            "  34  3 13 31 32 12 37 16  9 19 25 24 11 26]\n",
            " [ 8  0  2 15  7 36 14 27 23 28 35 21 33 10 20  5 30  6 18 22 29  4 17  1\n",
            "  34  3 13 31 32 12 37 16  9 19 25 24 11 26]\n",
            " [ 7  0  2  8 15 36 14 27 23 28 35 21 33 10 20  5 30  6 18 22 29  4 17  1\n",
            "  34  3 13 31 32 12 37 16  9 19 25 24 11 26]\n",
            " [36  0  2  8  7 15 14 27 23 28 35 21 33 10 20  5 30  6 18 22 29  4 17  1\n",
            "  34  3 13 31 32 12 37 16  9 19 25 24 11 26]]\n"
          ]
        }
      ]
    },
    {
      "cell_type": "markdown",
      "metadata": {
        "id": "XicJZERjnVwY"
      },
      "source": [
        "### Cost Function - Route lenght"
      ]
    },
    {
      "cell_type": "code",
      "metadata": {
        "id": "nYQPqe6RoAky"
      },
      "source": [
        "def cost(tsp, solution):\n",
        "  \"\"\"\n",
        "  Funciton input is tsp and solution which tsp is matrix of distance between cites and solution is list of cites\n",
        "\n",
        "  The output is length of solution from firt city to the goal (cost)\n",
        "  \"\"\"\n",
        "  length = 0.0\n",
        "  for q in range(len(solution)):\n",
        "    length += tsp[solution[q-1]][solution[q]]\n",
        "  return length\n",
        "  "
      ],
      "execution_count": null,
      "outputs": []
    },
    {
      "cell_type": "code",
      "metadata": {
        "id": "ZhW7huExoGtg",
        "colab": {
          "base_uri": "https://localhost:8080/"
        },
        "outputId": "ed78c0fc-dc8f-4235-888c-b501eb13a7df"
      },
      "source": [
        "#test\n",
        "n = make_population(tsp, 5)\n",
        "tsp = tsp_matrix(coords)\n",
        "for i in n:\n",
        "  print(f\"solution : {i} whit cost of = {cost(tsp, i)}\")"
      ],
      "execution_count": null,
      "outputs": [
        {
          "output_type": "stream",
          "name": "stdout",
          "text": [
            "solution : [33, 36, 34, 18, 30, 2, 12, 20, 37, 24, 27, 28, 25, 19, 26, 22, 7, 9, 10, 35, 6, 29, 16, 17, 13, 15, 21, 3, 0, 31, 4, 32, 23, 11, 14, 5, 8, 1] whit cost of = 28300.24519308566\n",
            "solution : [34, 33, 36, 18, 30, 2, 12, 20, 37, 24, 27, 28, 25, 19, 26, 22, 7, 9, 10, 35, 6, 29, 16, 17, 13, 15, 21, 3, 0, 31, 4, 32, 23, 11, 14, 5, 8, 1] whit cost of = 28371.270411273377\n",
            "solution : [18, 33, 34, 36, 30, 2, 12, 20, 37, 24, 27, 28, 25, 19, 26, 22, 7, 9, 10, 35, 6, 29, 16, 17, 13, 15, 21, 3, 0, 31, 4, 32, 23, 11, 14, 5, 8, 1] whit cost of = 27539.073606214424\n",
            "solution : [30, 33, 34, 18, 36, 2, 12, 20, 37, 24, 27, 28, 25, 19, 26, 22, 7, 9, 10, 35, 6, 29, 16, 17, 13, 15, 21, 3, 0, 31, 4, 32, 23, 11, 14, 5, 8, 1] whit cost of = 28694.56215975354\n",
            "solution : [2, 33, 34, 18, 30, 36, 12, 20, 37, 24, 27, 28, 25, 19, 26, 22, 7, 9, 10, 35, 6, 29, 16, 17, 13, 15, 21, 3, 0, 31, 4, 32, 23, 11, 14, 5, 8, 1] whit cost of = 28353.540699448848\n"
          ]
        }
      ]
    },
    {
      "cell_type": "markdown",
      "metadata": {
        "id": "hFFDlMLrutxu"
      },
      "source": [
        "### top_costs"
      ]
    },
    {
      "cell_type": "code",
      "metadata": {
        "id": "BMo1KDsEuym7"
      },
      "source": [
        "def top_costs(tsp,population,n):\n",
        "  \"\"\"\n",
        "  inputs : \n",
        "  tsp:,atrix of distance\n",
        "  population :list of splutions = [[road1],[road2],....]\n",
        "  n : is a intiger number and we use that to show n top costs\n",
        "\n",
        "  output: \n",
        "\n",
        "  population_and_cost[:n] : is a list of list of roads(solution) and thire cost \n",
        "                            which have been sorted by thir costs\n",
        "\n",
        "  exp: population_and_cost[:n] = [[[solution0],solution0_cost],[[solution1],solution1_cost] , ... ]\n",
        "\n",
        "  \"\"\"\n",
        "  population_and_cost = []\n",
        "  for i in population:\n",
        "    population_and_cost.append([i,cost(tsp,i)])\n",
        "  population_and_cost.sort(key=lambda x: x[1]) # This line of cods sorts population_and_cost by cost element\n",
        "\n",
        "  return population_and_cost[:n]"
      ],
      "execution_count": null,
      "outputs": []
    },
    {
      "cell_type": "code",
      "metadata": {
        "id": "dYOGw4LPv7br",
        "colab": {
          "base_uri": "https://localhost:8080/"
        },
        "outputId": "1ba7c49f-a696-4c43-a435-3742eb409f1d"
      },
      "source": [
        "#test funciton above\n",
        "population = make_population(tsp, 5)\n",
        "tsp = tsp_matrix(coords)\n",
        "for i in population:\n",
        "  print(f\"solution : {i} whit cost of = {cost(tsp, i)}\")\n",
        "\n",
        "tops = top_costs(tsp,population,2)\n",
        "\n",
        "for i in tops:\n",
        "  print(f\"best costs : {i}\")\n"
      ],
      "execution_count": null,
      "outputs": [
        {
          "output_type": "stream",
          "name": "stdout",
          "text": [
            "solution : [3, 18, 34, 33, 1, 11, 17, 8, 4, 0, 36, 12, 6, 9, 22, 13, 14, 29, 20, 10, 31, 26, 7, 24, 32, 5, 27, 28, 15, 2, 37, 16, 35, 25, 23, 30, 21, 19] whit cost of = 29200.997946835858\n",
            "solution : [34, 3, 18, 33, 1, 11, 17, 8, 4, 0, 36, 12, 6, 9, 22, 13, 14, 29, 20, 10, 31, 26, 7, 24, 32, 5, 27, 28, 15, 2, 37, 16, 35, 25, 23, 30, 21, 19] whit cost of = 29963.15848160602\n",
            "solution : [33, 3, 34, 18, 1, 11, 17, 8, 4, 0, 36, 12, 6, 9, 22, 13, 14, 29, 20, 10, 31, 26, 7, 24, 32, 5, 27, 28, 15, 2, 37, 16, 35, 25, 23, 30, 21, 19] whit cost of = 30341.439216688304\n",
            "solution : [1, 3, 34, 33, 18, 11, 17, 8, 4, 0, 36, 12, 6, 9, 22, 13, 14, 29, 20, 10, 31, 26, 7, 24, 32, 5, 27, 28, 15, 2, 37, 16, 35, 25, 23, 30, 21, 19] whit cost of = 27865.048976261765\n",
            "solution : [11, 3, 34, 33, 1, 18, 17, 8, 4, 0, 36, 12, 6, 9, 22, 13, 14, 29, 20, 10, 31, 26, 7, 24, 32, 5, 27, 28, 15, 2, 37, 16, 35, 25, 23, 30, 21, 19] whit cost of = 29400.752947333676\n",
            "best costs : [[1, 3, 34, 33, 18, 11, 17, 8, 4, 0, 36, 12, 6, 9, 22, 13, 14, 29, 20, 10, 31, 26, 7, 24, 32, 5, 27, 28, 15, 2, 37, 16, 35, 25, 23, 30, 21, 19], 27865.048976261765]\n",
            "best costs : [[3, 18, 34, 33, 1, 11, 17, 8, 4, 0, 36, 12, 6, 9, 22, 13, 14, 29, 20, 10, 31, 26, 7, 24, 32, 5, 27, 28, 15, 2, 37, 16, 35, 25, 23, 30, 21, 19], 29200.997946835858]\n"
          ]
        }
      ]
    },
    {
      "cell_type": "markdown",
      "metadata": {
        "id": "ep_LnDHQ5xDa"
      },
      "source": [
        "### cross_over"
      ]
    },
    {
      "cell_type": "code",
      "metadata": {
        "id": "9QA9srPL6AjS"
      },
      "source": [
        "def cross_over(tsp,top_population, prob=1):\n",
        "  \"\"\"\n",
        "  inputs:\n",
        "  tsp: matrix of distance\n",
        "  top_population: list of list of roads and thire costs: [[[road0],cost0],[[road1],cost1],....]\n",
        "\n",
        "  output:\n",
        "  new_genration: list of list of roads and thire costs: [[[road0],cost0],[[road1],cost1],....]\n",
        "\n",
        "  This function makes new road(genration) by swape n elemet of each list\n",
        "  \"\"\"\n",
        "  road_paths = []\n",
        "  for i in top_population:# In this line of code we collectiong road_paths from top_population\n",
        "    road_paths.append(i[0])\n",
        "  \n",
        "  new_genration = []\n",
        "\n",
        "  for i in range(1,len(road_paths)):\n",
        "    if random.random() < prob:  \n",
        "      p1,p2 = deepcopy(road_paths[i-1]),deepcopy(road_paths[i])\n",
        "      point = random.randint(1,len(p1)-2)\n",
        "      \n",
        "      for j in range(point,len(p1)):\n",
        "          p1[j],p2[j] = p2[j],p1[j]\n",
        "      new_genration.append([p1,cost(tsp,p1)])\n",
        "      new_genration.append([p2,cost(tsp,p2)])\n",
        "    else:\n",
        "      new_genration.append(top_population[i-1])\n",
        "\n",
        "  return new_genration  \n",
        "    "
      ],
      "execution_count": null,
      "outputs": []
    },
    {
      "cell_type": "code",
      "metadata": {
        "id": "7ICqIzYk-LdK",
        "colab": {
          "base_uri": "https://localhost:8080/"
        },
        "outputId": "4a99f591-0ee2-417d-a8ef-b0c76daeb4a7"
      },
      "source": [
        "#test funciton above\n",
        "population = make_population(tsp, 100000)\n",
        "tsp = tsp_matrix(coords)\n",
        "\n",
        "tops = top_costs(tsp,population,5)\n",
        "\n",
        "for i in tops:\n",
        "  print(f\"best costs : {i}\")\n",
        "\n",
        "new_genration = cross_over(tsp,tops,1)\n",
        "\n",
        "for j in new_genration:\n",
        "  print(f\"new_genration : {j}\")\n"
      ],
      "execution_count": null,
      "outputs": [
        {
          "output_type": "stream",
          "name": "stdout",
          "text": [
            "best costs : [[25, 23, 15, 9, 4, 5, 8, 16, 24, 17, 19, 0, 2, 7, 21, 3, 14, 37, 31, 29, 12, 10, 1, 22, 11, 30, 33, 36, 27, 6, 32, 18, 13, 26, 35, 34, 20, 28], 23086.608689933015]\n",
            "best costs : [[25, 23, 15, 9, 4, 5, 33, 16, 24, 17, 19, 0, 2, 7, 21, 3, 14, 37, 31, 29, 12, 10, 1, 22, 11, 30, 32, 36, 27, 6, 8, 18, 13, 26, 35, 34, 20, 28], 23109.13436051277]\n",
            "best costs : [[25, 23, 15, 9, 4, 5, 6, 16, 24, 17, 19, 0, 2, 7, 21, 3, 14, 37, 31, 29, 12, 10, 1, 22, 11, 30, 8, 36, 27, 33, 32, 18, 13, 26, 35, 34, 20, 28], 23273.291773312973]\n",
            "best costs : [[25, 23, 15, 9, 4, 5, 33, 16, 24, 17, 19, 0, 2, 7, 21, 3, 14, 37, 31, 29, 12, 10, 1, 22, 11, 6, 8, 36, 27, 30, 32, 18, 13, 26, 35, 34, 20, 28], 23646.18110632865]\n",
            "best costs : [[25, 23, 13, 9, 4, 5, 33, 16, 24, 17, 19, 0, 2, 7, 21, 3, 14, 37, 31, 29, 12, 10, 1, 22, 11, 30, 8, 36, 27, 6, 32, 18, 15, 26, 35, 34, 20, 28], 23661.46943509889]\n",
            "new_genration : [[25, 23, 15, 9, 4, 5, 33, 16, 24, 17, 19, 0, 2, 7, 21, 3, 14, 37, 31, 29, 12, 10, 1, 22, 11, 30, 32, 36, 27, 6, 8, 18, 13, 26, 35, 34, 20, 28], 23109.13436051277]\n",
            "new_genration : [[25, 23, 15, 9, 4, 5, 8, 16, 24, 17, 19, 0, 2, 7, 21, 3, 14, 37, 31, 29, 12, 10, 1, 22, 11, 30, 33, 36, 27, 6, 32, 18, 13, 26, 35, 34, 20, 28], 23086.608689933015]\n",
            "new_genration : [[25, 23, 15, 9, 4, 5, 33, 16, 24, 17, 19, 0, 2, 7, 21, 3, 14, 37, 31, 29, 12, 10, 1, 22, 11, 30, 8, 36, 27, 33, 32, 18, 13, 26, 35, 34, 20, 28], 24743.584239417047]\n",
            "new_genration : [[25, 23, 15, 9, 4, 5, 6, 16, 24, 17, 19, 0, 2, 7, 21, 3, 14, 37, 31, 29, 12, 10, 1, 22, 11, 30, 32, 36, 27, 6, 8, 18, 13, 26, 35, 34, 20, 28], 21638.841894408695]\n",
            "new_genration : [[25, 23, 15, 9, 4, 5, 6, 16, 24, 17, 19, 0, 2, 7, 21, 3, 14, 37, 31, 29, 12, 10, 1, 22, 11, 6, 8, 36, 27, 30, 32, 18, 13, 26, 35, 34, 20, 28], 22175.888640224577]\n",
            "new_genration : [[25, 23, 15, 9, 4, 5, 33, 16, 24, 17, 19, 0, 2, 7, 21, 3, 14, 37, 31, 29, 12, 10, 1, 22, 11, 30, 8, 36, 27, 33, 32, 18, 13, 26, 35, 34, 20, 28], 24743.584239417047]\n",
            "new_genration : [[25, 23, 15, 9, 4, 5, 33, 16, 24, 17, 19, 0, 2, 7, 21, 3, 14, 37, 31, 29, 12, 10, 1, 22, 11, 30, 8, 36, 27, 6, 32, 18, 15, 26, 35, 34, 20, 28], 24167.896954828066]\n",
            "new_genration : [[25, 23, 13, 9, 4, 5, 33, 16, 24, 17, 19, 0, 2, 7, 21, 3, 14, 37, 31, 29, 12, 10, 1, 22, 11, 6, 8, 36, 27, 30, 32, 18, 13, 26, 35, 34, 20, 28], 23139.75358659948]\n",
            "cross 2:[25, 23, 15, 9, 4, 5, 8, 16, 24, 17, 19, 0, 2, 7, 21, 3, 14, 37, 31, 29, 12, 10, 1, 22, 11, 30, 32, 36, 27, 6, 8, 18, 13, 26, 35, 34, 20, 28],21623.204805793626\n",
            "cross 2:[25, 23, 15, 9, 4, 5, 33, 16, 24, 17, 19, 0, 2, 7, 21, 3, 14, 37, 31, 29, 12, 10, 1, 22, 11, 30, 33, 36, 27, 6, 32, 18, 13, 26, 35, 34, 20, 28],24572.538244652158\n",
            "cross 2:[25, 23, 15, 9, 4, 5, 33, 16, 24, 17, 19, 0, 2, 7, 21, 3, 14, 37, 31, 29, 12, 10, 1, 22, 11, 30, 8, 36, 27, 33, 32, 18, 13, 26, 35, 34, 20, 28],24743.584239417047\n",
            "cross 2:[25, 23, 15, 9, 4, 5, 6, 16, 24, 17, 19, 0, 2, 7, 21, 3, 14, 37, 31, 29, 12, 10, 1, 22, 11, 30, 32, 36, 27, 6, 8, 18, 13, 26, 35, 34, 20, 28],21638.841894408695\n",
            "cross 2:[25, 23, 15, 9, 4, 5, 6, 16, 24, 17, 19, 0, 2, 7, 21, 3, 14, 37, 31, 29, 12, 10, 1, 22, 11, 6, 8, 36, 27, 30, 32, 18, 13, 26, 35, 34, 20, 28],22175.888640224577\n",
            "cross 2:[25, 23, 15, 9, 4, 5, 33, 16, 24, 17, 19, 0, 2, 7, 21, 3, 14, 37, 31, 29, 12, 10, 1, 22, 11, 30, 8, 36, 27, 33, 32, 18, 13, 26, 35, 34, 20, 28],24743.584239417047\n",
            "cross 2:[25, 23, 15, 9, 4, 5, 33, 16, 24, 17, 19, 0, 2, 7, 21, 3, 14, 37, 31, 29, 12, 10, 1, 22, 11, 30, 8, 36, 27, 6, 32, 18, 15, 26, 35, 34, 20, 28],24167.896954828066\n",
            "cross 2:[25, 23, 13, 9, 4, 5, 33, 16, 24, 17, 19, 0, 2, 7, 21, 3, 14, 37, 31, 29, 12, 10, 1, 22, 11, 6, 8, 36, 27, 30, 32, 18, 13, 26, 35, 34, 20, 28],23139.75358659948\n"
          ]
        }
      ]
    },
    {
      "cell_type": "markdown",
      "metadata": {
        "id": "i_BpKusi6Esr"
      },
      "source": [
        ""
      ]
    },
    {
      "cell_type": "markdown",
      "metadata": {
        "id": "Cg_2g8QAAxUt"
      },
      "source": [
        "### Mutation"
      ]
    },
    {
      "cell_type": "code",
      "metadata": {
        "id": "mnlRB5OoA3FF"
      },
      "source": [
        "def mutation(tsp:\"Matrix of distance\",cross_over:\"The cross overed popultaion\" \n",
        "             , prob:\"probiliy to change a element\" = 0.05) -> \"[[[road0],cost0],[[road1],cost1],....]\":\n",
        "  \"\"\"\n",
        "  inputs:\n",
        "  tsp: matrix of distance\n",
        "  top_population: list of list of roads and thire costs: [[[road0],cost0],[[road1],cost1],....]\n",
        "\n",
        "  output:\n",
        "  new_genration: list of list of roads and thire costs: [[[road0],cost0],[[road1],cost1],....]\n",
        "\n",
        "  This function makes new road(genration) by swape n elemet of each list\n",
        "  \"\"\"\n",
        "  road_paths = []\n",
        "  for i in cross_over:# In this line of code we collectiong road_paths from top_population\n",
        "    road_paths.append(i[0])\n",
        "\n",
        "  road_paths_copy = deepcopy(road_paths)\n",
        "\n",
        "  for j in road_paths:\n",
        "    for k in range(len(j)):\n",
        "      if random.random() < prob:\n",
        "        j[k] = (len(j)-1) - j[k]\n",
        "  \n",
        "\n",
        "  new_genration = road_paths\n",
        "\n",
        "  new_genration_with_cost = []\n",
        "\n",
        "  for m in new_genration:\n",
        "    new_genration_with_cost.append([m,cost(tsp,m)])\n",
        "    \n",
        "  return new_genration_with_cost"
      ],
      "execution_count": null,
      "outputs": []
    },
    {
      "cell_type": "code",
      "metadata": {
        "id": "nRzGs0Q_E2wo",
        "colab": {
          "base_uri": "https://localhost:8080/"
        },
        "outputId": "ca124a7b-914e-4946-f0a7-923a5864f7f2"
      },
      "source": [
        "#test funciton above\n",
        "population = make_population(tsp, 100000)\n",
        "tsp = tsp_matrix(coords)\n",
        "\n",
        "tops = top_costs(tsp,population,5)\n",
        "\n",
        "#for i in tops:\n",
        "  #print(f\"best costs : {i}\")\n",
        "\n",
        "cross_over_population = cross_over(tsp,tops,1)\n",
        "\n",
        "#for j in cross_over_population:\n",
        " #print(f\"cross over : {j}\")\n",
        "\n",
        "new_genration = mutation(tsp, cross_over_population, 0.1)\n",
        "\n",
        "print(len(new_genration))\n",
        "for k in new_genration:\n",
        "  print(f\"new_genration: {k}\")"
      ],
      "execution_count": null,
      "outputs": [
        {
          "output_type": "stream",
          "name": "stdout",
          "text": [
            "8\n",
            "new_genration: [[8, 21, 28, 11, 10, 19, 26, 30, 14, 9, 3, 25, 18, 6, 13, 5, 0, 2, 31, 3, 17, 15, 36, 27, 16, 12, 29, 4, 1, 23, 30, 5, 33, 35, 15, 20, 0, 24], 26998.872746106324]\n",
            "new_genration: [[8, 21, 28, 11, 10, 19, 26, 30, 14, 9, 34, 25, 18, 6, 13, 5, 0, 2, 4, 34, 17, 22, 36, 27, 16, 33, 29, 31, 1, 23, 7, 32, 12, 35, 15, 20, 37, 24], 27647.793127944387]\n",
            "new_genration: [[8, 21, 28, 11, 27, 19, 26, 12, 14, 9, 34, 25, 18, 6, 13, 5, 0, 2, 31, 3, 17, 15, 36, 27, 16, 33, 29, 4, 1, 23, 7, 32, 30, 35, 15, 20, 37, 24], 26581.703521892887]\n",
            "new_genration: [[8, 21, 28, 11, 10, 19, 26, 30, 14, 28, 34, 25, 18, 6, 13, 5, 37, 2, 6, 3, 20, 22, 1, 27, 16, 12, 29, 4, 1, 23, 7, 32, 33, 35, 15, 17, 0, 24], 25335.275079065977]\n",
            "new_genration: [[8, 21, 28, 11, 10, 19, 26, 12, 14, 9, 34, 25, 19, 6, 13, 32, 0, 2, 31, 34, 17, 22, 36, 27, 21, 33, 8, 4, 1, 23, 7, 16, 12, 35, 15, 20, 37, 24], 26684.540919378545]\n",
            "new_genration: [[8, 21, 28, 26, 10, 19, 26, 30, 23, 9, 34, 12, 18, 6, 13, 5, 0, 2, 31, 3, 17, 22, 36, 27, 32, 33, 8, 4, 1, 23, 7, 32, 7, 35, 15, 20, 37, 24], 27906.466114567607]\n",
            "new_genration: [[8, 21, 28, 26, 10, 19, 26, 30, 14, 9, 34, 25, 18, 31, 24, 5, 0, 2, 6, 3, 17, 22, 36, 27, 16, 33, 29, 4, 1, 23, 7, 32, 37, 2, 15, 20, 12, 24], 25991.253953470023]\n",
            "new_genration: [[8, 21, 28, 11, 10, 19, 26, 7, 14, 9, 34, 25, 18, 6, 13, 5, 37, 2, 31, 3, 17, 15, 36, 27, 32, 33, 29, 4, 1, 23, 7, 16, 12, 35, 15, 20, 37, 13], 28182.282364601917]\n"
          ]
        }
      ]
    },
    {
      "cell_type": "markdown",
      "metadata": {
        "id": "YiqDEX7IuzbS"
      },
      "source": [
        "### Genetic"
      ]
    },
    {
      "cell_type": "code",
      "metadata": {
        "id": "IE8rBtgYozIs"
      },
      "source": [
        "def genetic(tsp, ittiration):\n",
        "  cost_value = []\n",
        "\n",
        "  population = make_population(tsp, 1000)# making a random population\n",
        "  top_population = top_costs(tsp,population, 200) # This line of code chooses top 5 lowest cost soultions fromat = [[[solutin0],cost0],[[solutin1],cost1],...]\n",
        "  \n",
        "  for i in range(ittiration):\n",
        "    print(f\"ittiration : {i}\")\n",
        "    cross_over_population = cross_over(tsp,top_population,0.085)\n",
        "    new_genration = mutation(tsp,cross_over_population,0.001)\n",
        "\n",
        "    new_genration.sort(key=lambda x: x[1])\n",
        "    cost_value.append(new_genration[0][1])\n",
        "\n",
        "    top_population =  new_genration\n",
        "  \n",
        "  best_cost = new_genration[0][1]\n",
        "\n",
        "  return best_cost,cost_value \n"
      ],
      "execution_count": null,
      "outputs": []
    },
    {
      "cell_type": "code",
      "metadata": {
        "id": "Nf4-hgv6nisK",
        "colab": {
          "base_uri": "https://localhost:8080/",
          "height": 1000
        },
        "outputId": "d3a29b60-bf2d-4d55-8050-6bc80a34307d"
      },
      "source": [
        "iteration = 100\n",
        "\n",
        "tsp = tsp_matrix(coords)\n",
        "\n",
        "best_cost,cost_value = genetic(tsp, iteration)\n",
        "\n",
        "print(best_cost)\n",
        "\n",
        "r = []\n",
        "for i  in range(iteration):\n",
        "  r.append(i)\n",
        "\n",
        "plt.plot(r, cost_value, '-o', color='blue');\n",
        "\n",
        "\n"
      ],
      "execution_count": null,
      "outputs": [
        {
          "output_type": "stream",
          "name": "stdout",
          "text": [
            "ittiration : 0\n",
            "ittiration : 1\n",
            "ittiration : 2\n",
            "ittiration : 3\n",
            "ittiration : 4\n",
            "ittiration : 5\n",
            "ittiration : 6\n",
            "ittiration : 7\n",
            "ittiration : 8\n",
            "ittiration : 9\n",
            "ittiration : 10\n",
            "ittiration : 11\n",
            "ittiration : 12\n",
            "ittiration : 13\n",
            "ittiration : 14\n",
            "ittiration : 15\n",
            "ittiration : 16\n",
            "ittiration : 17\n",
            "ittiration : 18\n",
            "ittiration : 19\n",
            "ittiration : 20\n",
            "ittiration : 21\n",
            "ittiration : 22\n",
            "ittiration : 23\n",
            "ittiration : 24\n",
            "ittiration : 25\n",
            "ittiration : 26\n",
            "ittiration : 27\n",
            "ittiration : 28\n",
            "ittiration : 29\n",
            "ittiration : 30\n",
            "ittiration : 31\n",
            "ittiration : 32\n",
            "ittiration : 33\n",
            "ittiration : 34\n",
            "ittiration : 35\n",
            "ittiration : 36\n",
            "ittiration : 37\n",
            "ittiration : 38\n",
            "ittiration : 39\n",
            "ittiration : 40\n",
            "ittiration : 41\n",
            "ittiration : 42\n",
            "ittiration : 43\n",
            "ittiration : 44\n",
            "ittiration : 45\n",
            "ittiration : 46\n",
            "ittiration : 47\n",
            "ittiration : 48\n",
            "ittiration : 49\n",
            "ittiration : 50\n",
            "ittiration : 51\n",
            "ittiration : 52\n",
            "ittiration : 53\n",
            "ittiration : 54\n",
            "ittiration : 55\n",
            "ittiration : 56\n",
            "ittiration : 57\n",
            "ittiration : 58\n",
            "ittiration : 59\n",
            "ittiration : 60\n",
            "ittiration : 61\n",
            "ittiration : 62\n",
            "ittiration : 63\n",
            "ittiration : 64\n",
            "ittiration : 65\n",
            "ittiration : 66\n",
            "ittiration : 67\n",
            "ittiration : 68\n",
            "ittiration : 69\n",
            "ittiration : 70\n",
            "ittiration : 71\n",
            "ittiration : 72\n",
            "ittiration : 73\n",
            "ittiration : 74\n",
            "ittiration : 75\n",
            "ittiration : 76\n",
            "ittiration : 77\n",
            "ittiration : 78\n",
            "ittiration : 79\n",
            "ittiration : 80\n",
            "ittiration : 81\n",
            "ittiration : 82\n",
            "ittiration : 83\n",
            "ittiration : 84\n",
            "ittiration : 85\n",
            "ittiration : 86\n",
            "ittiration : 87\n",
            "ittiration : 88\n",
            "ittiration : 89\n",
            "ittiration : 90\n",
            "ittiration : 91\n",
            "ittiration : 92\n",
            "ittiration : 93\n",
            "ittiration : 94\n",
            "ittiration : 95\n",
            "ittiration : 96\n",
            "ittiration : 97\n",
            "ittiration : 98\n",
            "ittiration : 99\n",
            "71034.74417905803\n"
          ]
        },
        {
          "output_type": "display_data",
          "data": {
            "image/png": "[encoded data removed]",
            "text/plain": [
              "<Figure size 432x288 with 1 Axes>"
            ]
          },
          "metadata": {
            "needs_background": "light"
          }
        }
      ]
    }
  ]
}